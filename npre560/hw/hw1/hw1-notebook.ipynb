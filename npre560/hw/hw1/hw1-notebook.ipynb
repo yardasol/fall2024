{
 "cells": [
  {
   "cell_type": "code",
   "execution_count": 58,
   "id": "16547313-fe71-4d8a-8bea-a168bd0dd058",
   "metadata": {},
   "outputs": [],
   "source": [
    "import matplotlib.pyplot as plt\n",
    "from IPython.display import display, Math\n",
    "import numpy as np"
   ]
  },
  {
   "cell_type": "markdown",
   "id": "8ba47283-dabf-4efc-babc-3997aa4beeea",
   "metadata": {},
   "source": [
    "## Problem 4"
   ]
  },
  {
   "cell_type": "markdown",
   "id": "67408cb1-6769-4a45-b054-5183e84bfca7",
   "metadata": {},
   "source": [
    "### 4a"
   ]
  },
  {
   "cell_type": "code",
   "execution_count": 47,
   "id": "e37db29c-ba89-43ae-b48b-358d1ae2d808",
   "metadata": {},
   "outputs": [],
   "source": [
    "#E-groups 1 to 17\n",
    "Eg = np.array([6.065e6,3.679e6,2.231e6,1.353e6,0.821e6, 0.498e6,0.302e6,0.183e6,0.111e6,\n",
    "               0.674e5,0.409e5,0.248e5,0.150e5,\n",
    "               0.912e4,0.553e4,0.335e4,0.203e4])\n",
    "\n",
    "# Total neutron energy spectrum\n",
    "x = np.array([0.0325,0.1217,0.2109,0.2230,0.1728,0.1105,0.0628,0.0316,0.0168,0.0083,0.0040,0.0019,0.0009,0.0004,0.0002,0.0001,0.0])\n",
    "\n",
    "# Delayed neutron energy spectra for delay groups 1 thru 4\n",
    "x1 = np.array([0.,0.,0.,0.,0.009,0.021,0.093,0.088, 0.156,0.174,0.171,0.131,0.121,0.020,0.010,0.005,0.001])\n",
    "x2 = np.array([0.,0.,0.,0.,0.022,0.066,0.295,0.110,0.098,0.108,0.107,0.088,0.079,0.013,0.009,0.004,0.001])\n",
    "x3 = np.array([0.,0.,0.,0.,0.012,0.070,0.191,0.094,0.097,0.156,0.142,0.118,0.080,0.015,0.012,0.005,0.])\n",
    "x4 = np.array([0.0, 0.0,0.0, 0.009, 0.025,0.062,0.184,0.128,0.157,0.109,0.109,0.099,0.089,0.015,0.010,0.004,0.0])"
   ]
  },
  {
   "cell_type": "code",
   "execution_count": 75,
   "id": "8145ca81-858a-40ae-80ad-cb78a2bf8d0e",
   "metadata": {},
   "outputs": [
    {
     "data": {
      "text/latex": [
       "$\\displaystyle E_1 = 103.39478 keV$"
      ],
      "text/plain": [
       "<IPython.core.display.Math object>"
      ]
     },
     "metadata": {},
     "output_type": "display_data"
    }
   ],
   "source": [
    "# Ekavg, for k=1\n",
    "Ekavg = np.dot(Eg,x1)\n",
    "display(Math(r'E_1 = {} keV'.format(Ekavg/1e3)))"
   ]
  },
  {
   "cell_type": "code",
   "execution_count": 76,
   "id": "b279d797-295c-4836-941b-3af810c2e3a3",
   "metadata": {},
   "outputs": [
    {
     "data": {
      "text/latex": [
       "$\\displaystyle E_2 = 186.23466 keV$"
      ],
      "text/plain": [
       "<IPython.core.display.Math object>"
      ]
     },
     "metadata": {},
     "output_type": "display_data"
    }
   ],
   "source": [
    "# Ekavg, for k=2\n",
    "Ekavg = np.dot(Eg,x2)\n",
    "display(Math(r'E_2 = {} keV'.format(Ekavg/1e3)))"
   ]
  },
  {
   "cell_type": "code",
   "execution_count": 77,
   "id": "199069f4-54f3-4bff-b6ba-b8d60970da35",
   "metadata": {},
   "outputs": [
    {
     "data": {
      "text/latex": [
       "$\\displaystyle E_3 = 151.03151 keV$"
      ],
      "text/plain": [
       "<IPython.core.display.Math object>"
      ]
     },
     "metadata": {},
     "output_type": "display_data"
    }
   ],
   "source": [
    "# Ekavg, for k=3\n",
    "Ekavg = np.dot(Eg,x3)\n",
    "display(Math(r'E_3 = {} keV'.format(Ekavg/1e3)))"
   ]
  },
  {
   "cell_type": "code",
   "execution_count": 78,
   "id": "5186b1ef-f624-4253-8d5e-9825fdf0308b",
   "metadata": {},
   "outputs": [
    {
     "data": {
      "text/latex": [
       "$\\displaystyle E_4 = 175.79739999999998 keV$"
      ],
      "text/plain": [
       "<IPython.core.display.Math object>"
      ]
     },
     "metadata": {},
     "output_type": "display_data"
    }
   ],
   "source": [
    "# Ekavg, for k=4\n",
    "Ekavg = np.dot(Eg,x4)\n",
    "display(Math(r'E_4 = {} keV'.format(Ekavg/1e3)))"
   ]
  },
  {
   "cell_type": "markdown",
   "id": "eb1e0430-f71f-478c-9d27-7f4b2b71da1d",
   "metadata": {},
   "source": [
    "### 4b"
   ]
  },
  {
   "cell_type": "code",
   "execution_count": 79,
   "id": "5d2845a9-64be-40a9-be64-fa3db9b9609c",
   "metadata": {},
   "outputs": [
    {
     "data": {
      "text/latex": [
       "$\\displaystyle E = 1641.3834290000002 keV$"
      ],
      "text/plain": [
       "<IPython.core.display.Math object>"
      ]
     },
     "metadata": {},
     "output_type": "display_data"
    }
   ],
   "source": [
    "# Eavg\n",
    "Eavg = np.dot(Eg,x)\n",
    "display(Math(r'E = {} keV'.format(Eavg/1e3)))"
   ]
  },
  {
   "cell_type": "markdown",
   "id": "5abc7cff-075c-4a56-9815-5b16444f2bab",
   "metadata": {},
   "source": [
    "## Problem 5"
   ]
  },
  {
   "cell_type": "code",
   "execution_count": 83,
   "id": "a85a9f98-dd62-4158-97f9-62215f13bc37",
   "metadata": {},
   "outputs": [],
   "source": [
    "v_U235 = np.array([0.060, 0.364, 0.349, 0.628, 0.179, 0.070])\n",
    "v_U238 = np.array([0.049, 0.540, 0.681, 1.526, 0.836, 0.488])\n",
    "v_Pu239 = np.array([0.024, 0.176, 0.136, 0.207, 0.065, 0.022])\n",
    "\n",
    "vtot_U235 = np.sum(v_U235)\n",
    "vtot_U238 = np.sum(v_U238)\n",
    "vtot_Pu239 = np.sum(v_Pu239)"
   ]
  },
  {
   "cell_type": "code",
   "execution_count": 85,
   "id": "3c08a600-9772-4b01-abe2-652db0e4ad7c",
   "metadata": {},
   "outputs": [
    {
     "name": "stdout",
     "output_type": "stream",
     "text": [
      "1.65\n",
      "4.12\n",
      "0.6299999999999999\n"
     ]
    }
   ],
   "source": [
    "print(vtot_U235)\n",
    "print(vtot_U238)\n",
    "print(vtot_Pu239)"
   ]
  },
  {
   "cell_type": "code",
   "execution_count": null,
   "id": "d1485896-a972-462f-9bef-66fa8d4e0139",
   "metadata": {},
   "outputs": [],
   "source": []
  }
 ],
 "metadata": {
  "kernelspec": {
   "display_name": "Python [conda env:miniconda3-openmc-env]",
   "language": "python",
   "name": "conda-env-miniconda3-openmc-env-py"
  },
  "language_info": {
   "codemirror_mode": {
    "name": "ipython",
    "version": 3
   },
   "file_extension": ".py",
   "mimetype": "text/x-python",
   "name": "python",
   "nbconvert_exporter": "python",
   "pygments_lexer": "ipython3",
   "version": "3.9.13"
  }
 },
 "nbformat": 4,
 "nbformat_minor": 5
}
